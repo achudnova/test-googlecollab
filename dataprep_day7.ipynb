{
  "nbformat": 4,
  "nbformat_minor": 0,
  "metadata": {
    "colab": {
      "provenance": [],
      "authorship_tag": "ABX9TyOcTMFS4j1fvMmyYuTmMhUh",
      "include_colab_link": true
    },
    "kernelspec": {
      "name": "python3",
      "display_name": "Python 3"
    },
    "language_info": {
      "name": "python"
    }
  },
  "cells": [
    {
      "cell_type": "markdown",
      "metadata": {
        "id": "view-in-github",
        "colab_type": "text"
      },
      "source": [
        "<a href=\"https://colab.research.google.com/github/achudnova/test-googlecollab/blob/main/dataprep_day7.ipynb\" target=\"_parent\"><img src=\"https://colab.research.google.com/assets/colab-badge.svg\" alt=\"Open In Colab\"/></a>"
      ]
    },
    {
      "cell_type": "code",
      "execution_count": 1,
      "metadata": {
        "id": "2dX3Qz4ZJDT3"
      },
      "outputs": [],
      "source": [
        "# dimensionality reduction\n",
        "from sklearn.datasets import make_classification\n",
        "from sklearn.decomposition import PCA"
      ]
    },
    {
      "cell_type": "code",
      "source": [
        "# define dataset\n",
        "X,y = make_classification(n_samples=1000, n_features=10, n_informative=3, n_redundant=7, random_state=1)"
      ],
      "metadata": {
        "id": "zJEhVwrRLIiu"
      },
      "execution_count": 11,
      "outputs": []
    },
    {
      "cell_type": "code",
      "source": [
        "# summarize data before the transform\n",
        "print(X[:3, :])"
      ],
      "metadata": {
        "colab": {
          "base_uri": "https://localhost:8080/"
        },
        "id": "hgnDW92ILSUt",
        "outputId": "e4f01aa4-229b-449a-bde1-614a207b62a4"
      },
      "execution_count": 12,
      "outputs": [
        {
          "output_type": "stream",
          "name": "stdout",
          "text": [
            "[[-0.53448246  0.93837451  0.38969914  0.0926655   1.70876508  1.14351305\n",
            "  -1.47034214  0.11857673 -2.72241741  0.2953565 ]\n",
            " [-2.42280473 -1.02658758 -2.34792156 -0.82422408  0.59933419 -2.44832253\n",
            "   0.39750207  2.0265065   1.83374105  0.72430365]\n",
            " [-1.83391794 -1.1946668  -0.73806871  1.50947233  1.78047734  0.58779205\n",
            "  -2.78506977 -0.04163788 -1.25227833  0.99373587]]\n"
          ]
        }
      ]
    },
    {
      "cell_type": "code",
      "source": [
        "# define the transform\n",
        "trans = PCA(n_components=3)"
      ],
      "metadata": {
        "id": "sExNdcX-LV0h"
      },
      "execution_count": 13,
      "outputs": []
    },
    {
      "cell_type": "code",
      "source": [
        "# transform the data\n",
        "X_dim = trans.fit_transform(X)"
      ],
      "metadata": {
        "id": "6KqKYshrLZTK"
      },
      "execution_count": 14,
      "outputs": []
    },
    {
      "cell_type": "code",
      "source": [
        "# summarize data after the transform\n",
        "print(X_dim[:3, :])"
      ],
      "metadata": {
        "colab": {
          "base_uri": "https://localhost:8080/"
        },
        "id": "yOpj9JuPLbhL",
        "outputId": "0644097b-09c9-4ab9-d979-d86d470f3e06"
      },
      "execution_count": 15,
      "outputs": [
        {
          "output_type": "stream",
          "name": "stdout",
          "text": [
            "[[-1.64710578  2.11683302 -1.98256096]\n",
            " [ 0.92840209 -4.8294997  -0.22727043]\n",
            " [-3.83677757 -0.32300714 -0.11512801]]\n"
          ]
        }
      ]
    }
  ]
}