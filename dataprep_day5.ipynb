{
  "nbformat": 4,
  "nbformat_minor": 0,
  "metadata": {
    "colab": {
      "provenance": [],
      "authorship_tag": "ABX9TyNtRwc/T8/5roBYQP1J2tNG",
      "include_colab_link": true
    },
    "kernelspec": {
      "name": "python3",
      "display_name": "Python 3"
    },
    "language_info": {
      "name": "python"
    }
  },
  "cells": [
    {
      "cell_type": "markdown",
      "metadata": {
        "id": "view-in-github",
        "colab_type": "text"
      },
      "source": [
        "<a href=\"https://colab.research.google.com/github/achudnova/test-googlecollab/blob/main/dataprep_day5.ipynb\" target=\"_parent\"><img src=\"https://colab.research.google.com/assets/colab-badge.svg\" alt=\"Open In Colab\"/></a>"
      ]
    },
    {
      "cell_type": "code",
      "execution_count": 15,
      "metadata": {
        "id": "htdzhwLxCtSE"
      },
      "outputs": [],
      "source": [
        "# one-hot encode the breast cancer dataset\n",
        "from pandas import read_csv\n",
        "from sklearn.preprocessing import OneHotEncoder"
      ]
    },
    {
      "cell_type": "code",
      "source": [
        "# define the location of the dataset\n",
        "url = 'https://raw.githubusercontent.com/jbrownlee/Datasets/master/breast-cancer.csv'"
      ],
      "metadata": {
        "id": "REidtObSHdnd"
      },
      "execution_count": 5,
      "outputs": []
    },
    {
      "cell_type": "code",
      "source": [
        "# load the dataset\n",
        "dataset = read_csv(url, header=None)"
      ],
      "metadata": {
        "id": "agegOXlYHjEd"
      },
      "execution_count": 7,
      "outputs": []
    },
    {
      "cell_type": "code",
      "source": [
        "# retrieve the array of data\n",
        "data = dataset.values"
      ],
      "metadata": {
        "id": "1Yn2_eH5Hl3y"
      },
      "execution_count": 9,
      "outputs": []
    },
    {
      "cell_type": "code",
      "source": [
        "# separate into input and output columns\n",
        "X = data[:, :-1].astype(str)\n",
        "y = data[:, -1].astype(str)"
      ],
      "metadata": {
        "id": "r9fpFOaEHrOV"
      },
      "execution_count": 11,
      "outputs": []
    },
    {
      "cell_type": "code",
      "source": [
        "# summarize the raw data\n",
        "print(X[:3, :])"
      ],
      "metadata": {
        "colab": {
          "base_uri": "https://localhost:8080/"
        },
        "id": "qQmNwaewHw6A",
        "outputId": "d35a7007-0b2d-429a-9718-70f137f25ed2"
      },
      "execution_count": 13,
      "outputs": [
        {
          "output_type": "stream",
          "name": "stdout",
          "text": [
            "[[\"'40-49'\" \"'premeno'\" \"'15-19'\" \"'0-2'\" \"'yes'\" \"'3'\" \"'right'\"\n",
            "  \"'left_up'\" \"'no'\"]\n",
            " [\"'50-59'\" \"'ge40'\" \"'15-19'\" \"'0-2'\" \"'no'\" \"'1'\" \"'right'\" \"'central'\"\n",
            "  \"'no'\"]\n",
            " [\"'50-59'\" \"'ge40'\" \"'35-39'\" \"'0-2'\" \"'no'\" \"'2'\" \"'left'\" \"'left_low'\"\n",
            "  \"'no'\"]]\n"
          ]
        }
      ]
    },
    {
      "cell_type": "code",
      "source": [
        "# define the one hot encoding transform\n",
        "encoder = OneHotEncoder(sparse_output=False)"
      ],
      "metadata": {
        "id": "3cxgElvzH4Dp"
      },
      "execution_count": 18,
      "outputs": []
    },
    {
      "cell_type": "code",
      "source": [
        "# fit and apply the transform to the input data\n",
        "X_oe = encoder.fit_transform(X)"
      ],
      "metadata": {
        "id": "684lmgrnIMjv"
      },
      "execution_count": 20,
      "outputs": []
    },
    {
      "cell_type": "code",
      "source": [
        "# summarize the transformed data\n",
        "print(X_oe[:3, :])"
      ],
      "metadata": {
        "colab": {
          "base_uri": "https://localhost:8080/"
        },
        "id": "8sajDm-dIP_F",
        "outputId": "c35dd12a-0a69-41e3-a55b-d446f18d203b"
      },
      "execution_count": 21,
      "outputs": [
        {
          "output_type": "stream",
          "name": "stdout",
          "text": [
            "[[0. 0. 1. 0. 0. 0. 0. 0. 1. 0. 0. 1. 0. 0. 0. 0. 0. 0. 0. 0. 1. 0. 0. 0.\n",
            "  0. 0. 0. 0. 1. 0. 0. 0. 1. 0. 1. 0. 0. 1. 0. 0. 0. 1. 0.]\n",
            " [0. 0. 0. 1. 0. 0. 1. 0. 0. 0. 0. 1. 0. 0. 0. 0. 0. 0. 0. 0. 1. 0. 0. 0.\n",
            "  0. 0. 0. 1. 0. 0. 1. 0. 0. 0. 1. 1. 0. 0. 0. 0. 0. 1. 0.]\n",
            " [0. 0. 0. 1. 0. 0. 1. 0. 0. 0. 0. 0. 0. 0. 0. 1. 0. 0. 0. 0. 1. 0. 0. 0.\n",
            "  0. 0. 0. 1. 0. 0. 0. 1. 0. 1. 0. 0. 1. 0. 0. 0. 0. 1. 0.]]\n"
          ]
        }
      ]
    }
  ]
}