{
  "nbformat": 4,
  "nbformat_minor": 0,
  "metadata": {
    "colab": {
      "provenance": [],
      "authorship_tag": "ABX9TyOGGwpuRoWR0T+eLpH6NQrc",
      "include_colab_link": true
    },
    "kernelspec": {
      "name": "python3",
      "display_name": "Python 3"
    },
    "language_info": {
      "name": "python"
    }
  },
  "cells": [
    {
      "cell_type": "markdown",
      "metadata": {
        "id": "view-in-github",
        "colab_type": "text"
      },
      "source": [
        "<a href=\"https://colab.research.google.com/github/achudnova/test-googlecollab/blob/main/dataprep_day4.ipynb\" target=\"_parent\"><img src=\"https://colab.research.google.com/assets/colab-badge.svg\" alt=\"Open In Colab\"/></a>"
      ]
    },
    {
      "cell_type": "code",
      "execution_count": 1,
      "metadata": {
        "id": "Jl1WYFwpBrTQ"
      },
      "outputs": [],
      "source": [
        "# normalizing input data\n",
        "from sklearn.datasets import make_classification\n",
        "from sklearn.preprocessing import MinMaxScaler\n",
        "import numpy as np"
      ]
    },
    {
      "cell_type": "code",
      "source": [
        "# define dataset\n",
        "X,y = make_classification(n_samples=1000, n_features=5, n_informative=5, n_redundant=0, random_state=1)"
      ],
      "metadata": {
        "id": "-BOj8NyJBzMF"
      },
      "execution_count": 3,
      "outputs": []
    },
    {
      "cell_type": "code",
      "source": [
        "# calculate the min and max of each variable before transformation\n",
        "min_before = np.min(X, axis=0)\n",
        "max_before = np.max(X, axis=0)"
      ],
      "metadata": {
        "id": "-xUSyzIyEtei"
      },
      "execution_count": 4,
      "outputs": []
    },
    {
      "cell_type": "code",
      "source": [
        "# summarize data before the transform\n",
        "print(\"Data before transformation - first 3 rows:\")\n",
        "print(X[:3, :])"
      ],
      "metadata": {
        "colab": {
          "base_uri": "https://localhost:8080/"
        },
        "id": "IOqt_k8zCP6t",
        "outputId": "5a9428b0-35fc-4be2-8a5e-2080adf239e1"
      },
      "execution_count": 5,
      "outputs": [
        {
          "output_type": "stream",
          "name": "stdout",
          "text": [
            "Data before transformation - first 3 rows:\n",
            "[[ 2.39324489 -5.77732048 -0.59062319 -2.08095322  1.04707034]\n",
            " [-0.45820294  1.94683482 -2.46471441  2.36590955 -0.73666725]\n",
            " [ 2.35162422 -1.00061698 -0.5946091   1.12531096 -0.65267587]]\n"
          ]
        }
      ]
    },
    {
      "cell_type": "code",
      "source": [
        "# define the scaler\n",
        "trans = MinMaxScaler()"
      ],
      "metadata": {
        "id": "WrLUwjbQCVnL"
      },
      "execution_count": 6,
      "outputs": []
    },
    {
      "cell_type": "code",
      "source": [
        "# transform the data\n",
        "X_norm = trans.fit_transform(X)"
      ],
      "metadata": {
        "id": "hB2ebHv5Ca8Y"
      },
      "execution_count": 8,
      "outputs": []
    },
    {
      "cell_type": "code",
      "source": [
        "# calculate the min and max of each variable after transformation\n",
        "min_after = np.min(X_norm, axis=0)\n",
        "max_after = np.max(X_norm, axis=0)"
      ],
      "metadata": {
        "id": "ijI0JWcXE78Z"
      },
      "execution_count": 9,
      "outputs": []
    },
    {
      "cell_type": "code",
      "source": [
        "# summarize data after the transform\n",
        "print(\"Data after transformation - first 3 rows:\")\n",
        "print(X_norm[:3, :])"
      ],
      "metadata": {
        "colab": {
          "base_uri": "https://localhost:8080/"
        },
        "id": "dM3Cav_DCgIz",
        "outputId": "ef29a1bb-979c-4ca6-e92f-8e31027762a1"
      },
      "execution_count": 11,
      "outputs": [
        {
          "output_type": "stream",
          "name": "stdout",
          "text": [
            "Data after transformation - first 3 rows:\n",
            "[[0.77608466 0.0239289  0.48251588 0.18352101 0.59830036]\n",
            " [0.40400165 0.79590304 0.27369632 0.6331332  0.42104156]\n",
            " [0.77065362 0.50132629 0.48207176 0.5076991  0.4293882 ]]\n"
          ]
        }
      ]
    },
    {
      "cell_type": "code",
      "source": [
        "print(\"\\nMinimum values before transformation:\")\n",
        "print(min_before)\n",
        "print(\"\\nMaximum values before transformation:\")\n",
        "print(max_before)\n",
        "print(\"\\nMinimum values after transformation:\")\n",
        "print(min_after)\n",
        "print(\"\\nMaximum values after transformation:\")\n",
        "print(max_after)"
      ],
      "metadata": {
        "id": "M_rBZ29-FOxt",
        "outputId": "f871f458-30b1-462d-f943-1c2656beb3ac",
        "colab": {
          "base_uri": "https://localhost:8080/"
        }
      },
      "execution_count": 12,
      "outputs": [
        {
          "output_type": "stream",
          "name": "stdout",
          "text": [
            "\n",
            "Minimum values before transformation:\n",
            "[-3.55425829 -6.01674626 -4.92105446 -3.89605694 -4.97356645]\n",
            "\n",
            "Maximum values before transformation:\n",
            "[4.10921382 3.98897142 4.0536372  5.99438395 5.08933368]\n",
            "\n",
            "Minimum values after transformation:\n",
            "[0. 0. 0. 0. 0.]\n",
            "\n",
            "Maximum values after transformation:\n",
            "[1. 1. 1. 1. 1.]\n"
          ]
        }
      ]
    }
  ]
}