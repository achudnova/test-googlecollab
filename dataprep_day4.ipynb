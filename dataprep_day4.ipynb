{
  "nbformat": 4,
  "nbformat_minor": 0,
  "metadata": {
    "colab": {
      "provenance": [],
      "authorship_tag": "ABX9TyOR5MkY/PDo58QYpJOe8guC",
      "include_colab_link": true
    },
    "kernelspec": {
      "name": "python3",
      "display_name": "Python 3"
    },
    "language_info": {
      "name": "python"
    }
  },
  "cells": [
    {
      "cell_type": "markdown",
      "metadata": {
        "id": "view-in-github",
        "colab_type": "text"
      },
      "source": [
        "<a href=\"https://colab.research.google.com/github/achudnova/test-googlecollab/blob/main/dataprep_day4.ipynb\" target=\"_parent\"><img src=\"https://colab.research.google.com/assets/colab-badge.svg\" alt=\"Open In Colab\"/></a>"
      ]
    },
    {
      "cell_type": "code",
      "execution_count": 3,
      "metadata": {
        "id": "Jl1WYFwpBrTQ"
      },
      "outputs": [],
      "source": [
        "# normalizing input data\n",
        "from sklearn.datasets import make_classification\n",
        "from sklearn.preprocessing import MinMaxScaler"
      ]
    },
    {
      "cell_type": "code",
      "source": [
        "# define dataset\n",
        "X,y = make_classification(n_samples=1000, n_features=5, n_informative=5, n_redundant=0, random_state=1)"
      ],
      "metadata": {
        "id": "-BOj8NyJBzMF"
      },
      "execution_count": 5,
      "outputs": []
    },
    {
      "cell_type": "code",
      "source": [
        "# summarize data before the transform\n",
        "print(X[:3, :])"
      ],
      "metadata": {
        "colab": {
          "base_uri": "https://localhost:8080/"
        },
        "id": "IOqt_k8zCP6t",
        "outputId": "9e09548c-01c8-4b70-ca75-e64a8442879f"
      },
      "execution_count": 7,
      "outputs": [
        {
          "output_type": "stream",
          "name": "stdout",
          "text": [
            "[[ 2.39324489 -5.77732048 -0.59062319 -2.08095322  1.04707034]\n",
            " [-0.45820294  1.94683482 -2.46471441  2.36590955 -0.73666725]\n",
            " [ 2.35162422 -1.00061698 -0.5946091   1.12531096 -0.65267587]]\n"
          ]
        }
      ]
    },
    {
      "cell_type": "code",
      "source": [
        "# define the scaler\n",
        "trans = MinMaxScaler()"
      ],
      "metadata": {
        "id": "WrLUwjbQCVnL"
      },
      "execution_count": 9,
      "outputs": []
    },
    {
      "cell_type": "code",
      "source": [
        "# transform the data\n",
        "X_norm = trans.fit_transform(X)"
      ],
      "metadata": {
        "id": "hB2ebHv5Ca8Y"
      },
      "execution_count": 11,
      "outputs": []
    },
    {
      "cell_type": "code",
      "source": [
        "# summarize data after the transform\n",
        "print(X_norm[:3, :])"
      ],
      "metadata": {
        "colab": {
          "base_uri": "https://localhost:8080/"
        },
        "id": "dM3Cav_DCgIz",
        "outputId": "11210922-c987-4825-a2b9-4d7052c3a3f9"
      },
      "execution_count": 12,
      "outputs": [
        {
          "output_type": "stream",
          "name": "stdout",
          "text": [
            "[[0.77608466 0.0239289  0.48251588 0.18352101 0.59830036]\n",
            " [0.40400165 0.79590304 0.27369632 0.6331332  0.42104156]\n",
            " [0.77065362 0.50132629 0.48207176 0.5076991  0.4293882 ]]\n"
          ]
        }
      ]
    }
  ]
}